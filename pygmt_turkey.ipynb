{
 "cells": [
  {
   "cell_type": "code",
   "execution_count": 1,
   "id": "5c81f6f1-9621-4734-bae9-5275039be15d",
   "metadata": {},
   "outputs": [
    {
     "name": "stdout",
     "output_type": "stream",
     "text": [
      "DEM already exists!\n"
     ]
    },
    {
     "name": "stderr",
     "output_type": "stream",
     "text": [
      "grdimage [ERROR]: Unrecognized option -^\n",
      "grdimage [ERROR]: Cannot find file University\n",
      "grdimage [ERROR]: Cannot find file of\n",
      "grdmix [ERROR]: Cannot find file University\n",
      "grdmix [ERROR]: Cannot find file of\n",
      "grdimage [ERROR]: Unable to combine c:\\Users\\mmuha\\OneDrive/University/of into an image - aborting.\n",
      "grdimage [ERROR]: Option -I: Cannot derive intensities when r,g,b grids are given as data\n"
     ]
    },
    {
     "ename": "GMTCLibError",
     "evalue": "Module 'grdimage' failed with status code 72:\ngrdimage [ERROR]: Unrecognized option -^\ngrdimage [ERROR]: Cannot find file University\ngrdimage [ERROR]: Cannot find file of\ngrdmix [ERROR]: Cannot find file University\ngrdmix [ERROR]: Cannot find file of\ngrdimage [ERROR]: Unable to combine c:\\Users\\mmuha\\OneDrive/University/of into an image - aborting.\ngrdimage [ERROR]: Option -I: Cannot derive intensities when r,g,b grids are given as data",
     "output_type": "error",
     "traceback": [
      "\u001b[1;31m---------------------------------------------------------------------------\u001b[0m",
      "\u001b[1;31mGMTCLibError\u001b[0m                              Traceback (most recent call last)",
      "Input \u001b[1;32mIn [1]\u001b[0m, in \u001b[0;36m<cell line: 38>\u001b[1;34m()\u001b[0m\n\u001b[0;32m     35\u001b[0m pygmt\u001b[38;5;241m.\u001b[39mmakecpt(cmap\u001b[38;5;241m=\u001b[39m\u001b[38;5;124m\"\u001b[39m\u001b[38;5;124mocean\u001b[39m\u001b[38;5;124m\"\u001b[39m, series\u001b[38;5;241m=\u001b[39m[\u001b[38;5;241m-\u001b[39m\u001b[38;5;241m8000\u001b[39m, \u001b[38;5;241m0\u001b[39m, \u001b[38;5;241m1000\u001b[39m], continuous\u001b[38;5;241m=\u001b[39m\u001b[38;5;28;01mTrue\u001b[39;00m)\n\u001b[0;32m     37\u001b[0m \u001b[38;5;66;03m# Add DEM relief background using the locally saved file\u001b[39;00m\n\u001b[1;32m---> 38\u001b[0m \u001b[43mfig\u001b[49m\u001b[38;5;241;43m.\u001b[39;49m\u001b[43mgrdimage\u001b[49m\u001b[43m(\u001b[49m\n\u001b[0;32m     39\u001b[0m \u001b[43m    \u001b[49m\u001b[43mgrid\u001b[49m\u001b[38;5;241;43m=\u001b[39;49m\u001b[43mdem\u001b[49m\u001b[43m,\u001b[49m\n\u001b[0;32m     40\u001b[0m \u001b[43m    \u001b[49m\u001b[43mcmap\u001b[49m\u001b[38;5;241;43m=\u001b[39;49m\u001b[38;5;28;43;01mTrue\u001b[39;49;00m\u001b[43m,\u001b[49m\n\u001b[0;32m     41\u001b[0m \u001b[43m    \u001b[49m\u001b[43mregion\u001b[49m\u001b[38;5;241;43m=\u001b[39;49m\u001b[43mplot_region\u001b[49m\u001b[43m,\u001b[49m\n\u001b[0;32m     42\u001b[0m \u001b[43m    \u001b[49m\u001b[43mprojection\u001b[49m\u001b[38;5;241;43m=\u001b[39;49m\u001b[38;5;124;43m\"\u001b[39;49m\u001b[38;5;124;43mM13c\u001b[39;49m\u001b[38;5;124;43m\"\u001b[39;49m\u001b[43m,\u001b[49m\n\u001b[0;32m     43\u001b[0m \u001b[43m    \u001b[49m\u001b[43mshading\u001b[49m\u001b[38;5;241;43m=\u001b[39;49m\u001b[38;5;28;43;01mTrue\u001b[39;49;00m\u001b[43m,\u001b[49m\n\u001b[0;32m     44\u001b[0m \u001b[43m    \u001b[49m\u001b[43mframe\u001b[49m\u001b[38;5;241;43m=\u001b[39;49m\u001b[38;5;28;43;01mTrue\u001b[39;49;00m\n\u001b[0;32m     45\u001b[0m \u001b[43m)\u001b[49m\n\u001b[0;32m     47\u001b[0m \u001b[38;5;66;03m# Show the plot\u001b[39;00m\n\u001b[0;32m     48\u001b[0m fig\u001b[38;5;241m.\u001b[39mshow()\n",
      "File \u001b[1;32mc:\\Users\\mmuha\\Anaconda3\\envs\\pygmt\\lib\\site-packages\\pygmt\\helpers\\decorators.py:585\u001b[0m, in \u001b[0;36muse_alias.<locals>.alias_decorator.<locals>.new_module\u001b[1;34m(*args, **kwargs)\u001b[0m\n\u001b[0;32m    580\u001b[0m         msg \u001b[38;5;241m=\u001b[39m (\n\u001b[0;32m    581\u001b[0m             \u001b[38;5;124mf\u001b[39m\u001b[38;5;124m\"\u001b[39m\u001b[38;5;124mShort-form parameter (\u001b[39m\u001b[38;5;132;01m{\u001b[39;00mshort_param\u001b[38;5;132;01m}\u001b[39;00m\u001b[38;5;124m) is not recommended. \u001b[39m\u001b[38;5;124m\"\u001b[39m\n\u001b[0;32m    582\u001b[0m             \u001b[38;5;124mf\u001b[39m\u001b[38;5;124m\"\u001b[39m\u001b[38;5;124mUse long-form parameter \u001b[39m\u001b[38;5;124m'\u001b[39m\u001b[38;5;132;01m{\u001b[39;00mlong_alias\u001b[38;5;132;01m}\u001b[39;00m\u001b[38;5;124m'\u001b[39m\u001b[38;5;124m instead.\u001b[39m\u001b[38;5;124m\"\u001b[39m\n\u001b[0;32m    583\u001b[0m         )\n\u001b[0;32m    584\u001b[0m         warnings\u001b[38;5;241m.\u001b[39mwarn(msg, category\u001b[38;5;241m=\u001b[39m\u001b[38;5;167;01mSyntaxWarning\u001b[39;00m, stacklevel\u001b[38;5;241m=\u001b[39m\u001b[38;5;241m2\u001b[39m)\n\u001b[1;32m--> 585\u001b[0m \u001b[38;5;28;01mreturn\u001b[39;00m module_func(\u001b[38;5;241m*\u001b[39margs, \u001b[38;5;241m*\u001b[39m\u001b[38;5;241m*\u001b[39mkwargs)\n",
      "File \u001b[1;32mc:\\Users\\mmuha\\Anaconda3\\envs\\pygmt\\lib\\site-packages\\pygmt\\helpers\\decorators.py:725\u001b[0m, in \u001b[0;36mkwargs_to_strings.<locals>.converter.<locals>.new_module\u001b[1;34m(*args, **kwargs)\u001b[0m\n\u001b[0;32m    723\u001b[0m             kwargs[arg] \u001b[38;5;241m=\u001b[39m separators[fmt]\u001b[38;5;241m.\u001b[39mjoin(\u001b[38;5;124mf\u001b[39m\u001b[38;5;124m\"\u001b[39m\u001b[38;5;132;01m{\u001b[39;00mitem\u001b[38;5;132;01m}\u001b[39;00m\u001b[38;5;124m\"\u001b[39m \u001b[38;5;28;01mfor\u001b[39;00m item \u001b[38;5;129;01min\u001b[39;00m value)\n\u001b[0;32m    724\u001b[0m \u001b[38;5;66;03m# Execute the original function and return its output\u001b[39;00m\n\u001b[1;32m--> 725\u001b[0m \u001b[38;5;28;01mreturn\u001b[39;00m module_func(\u001b[38;5;241m*\u001b[39margs, \u001b[38;5;241m*\u001b[39m\u001b[38;5;241m*\u001b[39mkwargs)\n",
      "File \u001b[1;32mc:\\Users\\mmuha\\Anaconda3\\envs\\pygmt\\lib\\site-packages\\pygmt\\src\\grdimage.py:174\u001b[0m, in \u001b[0;36mgrdimage\u001b[1;34m(self, grid, **kwargs)\u001b[0m\n\u001b[0;32m    171\u001b[0m     kwargs[\u001b[38;5;124m\"\u001b[39m\u001b[38;5;124mI\u001b[39m\u001b[38;5;124m\"\u001b[39m] \u001b[38;5;241m=\u001b[39m stack\u001b[38;5;241m.\u001b[39menter_context(shading_context)\n\u001b[0;32m    173\u001b[0m fname \u001b[38;5;241m=\u001b[39m stack\u001b[38;5;241m.\u001b[39menter_context(file_context)\n\u001b[1;32m--> 174\u001b[0m \u001b[43mlib\u001b[49m\u001b[38;5;241;43m.\u001b[39;49m\u001b[43mcall_module\u001b[49m\u001b[43m(\u001b[49m\n\u001b[0;32m    175\u001b[0m \u001b[43m    \u001b[49m\u001b[43mmodule\u001b[49m\u001b[38;5;241;43m=\u001b[39;49m\u001b[38;5;124;43m\"\u001b[39;49m\u001b[38;5;124;43mgrdimage\u001b[39;49m\u001b[38;5;124;43m\"\u001b[39;49m\u001b[43m,\u001b[49m\u001b[43m \u001b[49m\u001b[43margs\u001b[49m\u001b[38;5;241;43m=\u001b[39;49m\u001b[43mbuild_arg_string\u001b[49m\u001b[43m(\u001b[49m\u001b[43mkwargs\u001b[49m\u001b[43m,\u001b[49m\u001b[43m \u001b[49m\u001b[43minfile\u001b[49m\u001b[38;5;241;43m=\u001b[39;49m\u001b[43mfname\u001b[49m\u001b[43m)\u001b[49m\n\u001b[0;32m    176\u001b[0m \u001b[43m\u001b[49m\u001b[43m)\u001b[49m\n",
      "File \u001b[1;32mc:\\Users\\mmuha\\Anaconda3\\envs\\pygmt\\lib\\site-packages\\pygmt\\clib\\session.py:506\u001b[0m, in \u001b[0;36mSession.call_module\u001b[1;34m(self, module, args)\u001b[0m\n\u001b[0;32m    502\u001b[0m status \u001b[38;5;241m=\u001b[39m c_call_module(\n\u001b[0;32m    503\u001b[0m     \u001b[38;5;28mself\u001b[39m\u001b[38;5;241m.\u001b[39msession_pointer, module\u001b[38;5;241m.\u001b[39mencode(), mode, args\u001b[38;5;241m.\u001b[39mencode()\n\u001b[0;32m    504\u001b[0m )\n\u001b[0;32m    505\u001b[0m \u001b[38;5;28;01mif\u001b[39;00m status \u001b[38;5;241m!=\u001b[39m \u001b[38;5;241m0\u001b[39m:\n\u001b[1;32m--> 506\u001b[0m     \u001b[38;5;28;01mraise\u001b[39;00m GMTCLibError(\n\u001b[0;32m    507\u001b[0m         \u001b[38;5;124mf\u001b[39m\u001b[38;5;124m\"\u001b[39m\u001b[38;5;124mModule \u001b[39m\u001b[38;5;124m'\u001b[39m\u001b[38;5;132;01m{\u001b[39;00mmodule\u001b[38;5;132;01m}\u001b[39;00m\u001b[38;5;124m'\u001b[39m\u001b[38;5;124m failed with status code \u001b[39m\u001b[38;5;132;01m{\u001b[39;00mstatus\u001b[38;5;132;01m}\u001b[39;00m\u001b[38;5;124m:\u001b[39m\u001b[38;5;130;01m\\n\u001b[39;00m\u001b[38;5;132;01m{\u001b[39;00m\u001b[38;5;28mself\u001b[39m\u001b[38;5;241m.\u001b[39m_error_message\u001b[38;5;132;01m}\u001b[39;00m\u001b[38;5;124m\"\u001b[39m\n\u001b[0;32m    508\u001b[0m     )\n",
      "\u001b[1;31mGMTCLibError\u001b[0m: Module 'grdimage' failed with status code 72:\ngrdimage [ERROR]: Unrecognized option -^\ngrdimage [ERROR]: Cannot find file University\ngrdimage [ERROR]: Cannot find file of\ngrdmix [ERROR]: Cannot find file University\ngrdmix [ERROR]: Cannot find file of\ngrdimage [ERROR]: Unable to combine c:\\Users\\mmuha\\OneDrive/University/of into an image - aborting.\ngrdimage [ERROR]: Option -I: Cannot derive intensities when r,g,b grids are given as data"
     ]
    }
   ],
   "source": [
    "import os \n",
    "import pygmt\n",
    "import pandas as pd\n",
    "\n",
    "# Initialize the PyGMT figure\n",
    "fig = pygmt.Figure()\n",
    "\n",
    "# Folder path\n",
    "batchdir = os.path.join(os.getcwd(),'data')\n",
    "dem_file='earth_relief_turkey_15s.nc'\n",
    "# Upload data\n",
    "dem = os.path.join(batchdir, dem_file)\n",
    "dem_resolution='15s'\n",
    "region = [23, 48, 34, 43]\n",
    "# DEM downloading\n",
    "if not os.path.exists(dem):\n",
    "    print('DEM is downloading please wait! After downloading, the process will be faster!')\n",
    "    try:\n",
    "        # Download the earth relief data and save it to a file\n",
    "        grid = pygmt.datasets.load_earth_relief(resolution=dem_resolution, region=region)\n",
    "        # Saving the grid to a NetCDF file\n",
    "        grid.to_netcdf(dem)\n",
    "        print(f\"Data successfully downloaded and saved to {dem}\")\n",
    "    except Exception as e:\n",
    "        print(f\"An error occurred: {e}\")\n",
    "else:\n",
    "    print(f'DEM already exists!')\n",
    "\n",
    "plot_region=region\n",
    "# Plot the basemap with DEM relief as the background\n",
    "fig.basemap(region=plot_region, projection=\"M13c\", frame=[\"xafg5\", \"yafg5\"])\n",
    "\n",
    "# Create a color palette with blue for water and gray for land\n",
    "pygmt.makecpt(cmap=\"gray\", series=[0, 8000, 1000], continuous=True)\n",
    "pygmt.makecpt(cmap=\"ocean\", series=[-8000, 0, 1000], continuous=True)\n",
    "\n",
    "# Add DEM relief background using the locally saved file\n",
    "fig.grdimage(\n",
    "    grid=dem,\n",
    "    cmap=True,\n",
    "    region=plot_region,\n",
    "    projection=\"M13c\",\n",
    "    shading=True,\n",
    "    frame=True\n",
    ")\n",
    "\n",
    "# Show the plot\n",
    "fig.show()"
   ]
  },
  {
   "cell_type": "code",
   "execution_count": 5,
   "id": "a976785c",
   "metadata": {},
   "outputs": [
    {
     "data": {
      "text/plain": [
       "'v0.7.0'"
      ]
     },
     "execution_count": 5,
     "metadata": {},
     "output_type": "execute_result"
    }
   ],
   "source": [
    "pygmt.__version__"
   ]
  }
 ],
 "metadata": {
  "kernelspec": {
   "display_name": "pygmt",
   "language": "python",
   "name": "python3"
  },
  "language_info": {
   "codemirror_mode": {
    "name": "ipython",
    "version": 3
   },
   "file_extension": ".py",
   "mimetype": "text/x-python",
   "name": "python",
   "nbconvert_exporter": "python",
   "pygments_lexer": "ipython3",
   "version": "3.10.5"
  }
 },
 "nbformat": 4,
 "nbformat_minor": 5
}
